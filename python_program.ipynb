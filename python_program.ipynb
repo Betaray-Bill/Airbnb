{
  "nbformat": 4,
  "nbformat_minor": 0,
  "metadata": {
    "colab": {
      "name": "python program.ipynb",
      "provenance": [],
      "collapsed_sections": [],
      "authorship_tag": "ABX9TyPGfNAJa44ekWCo7U/ala+i",
      "include_colab_link": true
    },
    "kernelspec": {
      "name": "python3",
      "display_name": "Python 3"
    },
    "language_info": {
      "name": "python"
    }
  },
  "cells": [
    {
      "cell_type": "markdown",
      "metadata": {
        "id": "view-in-github",
        "colab_type": "text"
      },
      "source": [
        "<a href=\"https://colab.research.google.com/github/Betaray-Bill/Airbnb/blob/main/python_program.ipynb\" target=\"_parent\"><img src=\"https://colab.research.google.com/assets/colab-badge.svg\" alt=\"Open In Colab\"/></a>"
      ]
    },
    {
      "cell_type": "markdown",
      "source": [
        "**Python Program for factorial of a number**"
      ],
      "metadata": {
        "id": "k1TCzYykaqG8"
      }
    },
    {
      "cell_type": "code",
      "source": [
        "def fac(n):\n",
        "  return 1 if n==0 or n==1 else n*fac(n-1)\n",
        "\n",
        "\n",
        "n = int(input(\"enter a number : \"))\n",
        "factorial = fac(n)\n",
        "print(factorial)"
      ],
      "metadata": {
        "id": "PCu-wtx4asej",
        "colab": {
          "base_uri": "https://localhost:8080/"
        },
        "outputId": "fb0c77cd-07c4-4dc3-905f-2959541dd761"
      },
      "execution_count": null,
      "outputs": [
        {
          "output_type": "stream",
          "name": "stdout",
          "text": [
            "enter a number : 5\n",
            "120\n"
          ]
        }
      ]
    },
    {
      "cell_type": "markdown",
      "source": [
        "**Python Program to find largest element in an array**"
      ],
      "metadata": {
        "id": "FTkDFXyRgNpP"
      }
    },
    {
      "cell_type": "code",
      "source": [
        "def largest(arr,n):\n",
        "  max=arr[0]\n",
        "\n",
        "  for i in range(1,n):\n",
        "    if arr[i] > max:\n",
        "      max=arr[i]\n",
        "  return max\n",
        "\n",
        "arr = list(map(int, input(\"Enter elements : \").strip().split()))\n",
        "n = len(arr)\n",
        "\n",
        "res = largest(arr, n)\n",
        "print(res)"
      ],
      "metadata": {
        "colab": {
          "base_uri": "https://localhost:8080/"
        },
        "id": "j3Z83HtSgOhe",
        "outputId": "8e9eb392-c627-46b6-d4df-3ea066115fdd"
      },
      "execution_count": 4,
      "outputs": [
        {
          "output_type": "stream",
          "name": "stdout",
          "text": [
            "Enter elements : 12 78 3 41 7910001\n",
            "7910001\n"
          ]
        }
      ]
    },
    {
      "cell_type": "markdown",
      "source": [
        "**Python Program for array rotation**"
      ],
      "metadata": {
        "id": "pGijUHpXipjX"
      }
    },
    {
      "cell_type": "code",
      "source": [
        "def rotate_array(arr, n, d):\n",
        "  temp = []\n",
        "  for i in range(d,n):\n",
        "    temp.append(arr[i])\n",
        "\n",
        "  for i in range(0, d):\n",
        "    temp.append(arr[i])\n",
        "\n",
        "  return temp\n",
        "\n",
        "\n",
        "arr = list(map(int, input(\"Enter the array : \").strip().split()))\n",
        "print(\"Array after left rotation is: \", end=' ')\n",
        "print(rotate_array(arr, len(arr), 2))\n",
        "\n",
        "\n",
        "\n",
        "\n",
        "\n",
        "# Another method\n",
        "\n",
        "def splitArr(arr, n, k):\n",
        "  for i in range(0,k):\n",
        "    x = arr[0]\n",
        "    for j in range(0, n-1):\n",
        "      arr[j] = arr[j + 1]\n",
        "\n",
        "    arr[n-1] = x\n",
        "\n",
        "\n",
        "arr = [12, 10, 5, 6, 52, 36]\n",
        "n = len(arr)\n",
        "position = 2\n",
        "  \n",
        "splitArr(arr, n, position)\n",
        "  \n",
        "for i in range(0, n): \n",
        "    print(arr[i], end = ' ')\n"
      ],
      "metadata": {
        "colab": {
          "base_uri": "https://localhost:8080/"
        },
        "id": "QAqnSg3xizyd",
        "outputId": "b9c2a4c0-7043-4be0-a415-8f36850a81a4"
      },
      "execution_count": 12,
      "outputs": [
        {
          "output_type": "stream",
          "name": "stdout",
          "text": [
            "Enter the array : 12 485 56 456 132 321 5642  64 2 65\n",
            "Array after left rotation is:  [56, 456, 132, 321, 5642, 64, 2, 65, 12, 485]\n",
            "5 6 52 36 12 10 "
          ]
        }
      ]
    },
    {
      "cell_type": "markdown",
      "source": [
        "**Excluding the repeated values in python**"
      ],
      "metadata": {
        "id": "i_N_Wae72bel"
      }
    },
    {
      "cell_type": "code",
      "source": [
        "def Repeat(lst):\n",
        "  x = len(lst)\n",
        "  repeated = []\n",
        "  for i in range(x):\n",
        "    k = i+1\n",
        "    for j in range(k, x):\n",
        "      if lst[i] == lst[j] and lst[i] not in repeated:\n",
        "        repeated.append(lst[i])\n",
        "  return repeated\n",
        "\n",
        "list1 = [10, 20, 30, 20, 20, 30, 40,\n",
        "         50, -20, 60, 60, -20, -20]\n",
        "print (Repeat(list1))"
      ],
      "metadata": {
        "colab": {
          "base_uri": "https://localhost:8080/"
        },
        "id": "GGRGu6jD2bC3",
        "outputId": "3257f608-8b80-4746-ed58-6b7a374c6f6d"
      },
      "execution_count": 15,
      "outputs": [
        {
          "output_type": "stream",
          "name": "stdout",
          "text": [
            "[20, 30, -20, 60]\n"
          ]
        }
      ]
    },
    {
      "cell_type": "markdown",
      "source": [
        "**Sum of number digits in List**"
      ],
      "metadata": {
        "id": "n8qB3pFf3cjO"
      }
    },
    {
      "cell_type": "code",
      "source": [
        "test_list = [12, 67, 98, 34]\n",
        "res = []\n",
        "for i in test_list:\n",
        "  s = 0\n",
        "  for j in str(i):\n",
        "    s = s + int(j)\n",
        "\n",
        "  res.append(s)\n",
        "\n",
        "res"
      ],
      "metadata": {
        "colab": {
          "base_uri": "https://localhost:8080/"
        },
        "id": "klz6aBiE2uRc",
        "outputId": "26e5a317-5525-4352-f344-ebfcaf35f8aa"
      },
      "execution_count": 16,
      "outputs": [
        {
          "output_type": "execute_result",
          "data": {
            "text/plain": [
              "[3, 13, 17, 7]"
            ]
          },
          "metadata": {},
          "execution_count": 16
        }
      ]
    }
  ]
}