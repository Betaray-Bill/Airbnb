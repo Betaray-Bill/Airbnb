{
  "nbformat": 4,
  "nbformat_minor": 0,
  "metadata": {
    "colab": {
      "name": "python program.ipynb",
      "provenance": [],
      "authorship_tag": "ABX9TyPBcixdVDkK895wXSv2D0ni",
      "include_colab_link": true
    },
    "kernelspec": {
      "name": "python3",
      "display_name": "Python 3"
    },
    "language_info": {
      "name": "python"
    }
  },
  "cells": [
    {
      "cell_type": "markdown",
      "metadata": {
        "id": "view-in-github",
        "colab_type": "text"
      },
      "source": [
        "<a href=\"https://colab.research.google.com/github/Betaray-Bill/Airbnb/blob/main/python_program.ipynb\" target=\"_parent\"><img src=\"https://colab.research.google.com/assets/colab-badge.svg\" alt=\"Open In Colab\"/></a>"
      ]
    },
    {
      "cell_type": "markdown",
      "source": [
        "**Python Program for factorial of a number**"
      ],
      "metadata": {
        "id": "k1TCzYykaqG8"
      }
    },
    {
      "cell_type": "code",
      "source": [
        ""
      ],
      "metadata": {
        "id": "PCu-wtx4asej"
      },
      "execution_count": null,
      "outputs": []
    }
  ]
}